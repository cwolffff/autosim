{
 "cells": [
  {
   "cell_type": "markdown",
   "metadata": {},
   "source": [
    "## Imports"
   ]
  },
  {
   "cell_type": "code",
   "execution_count": 1,
   "metadata": {},
   "outputs": [],
   "source": [
    "import re\n",
    "import signal\n",
    "import time\n",
    "from matplotlib import pyplot as plt\n",
    "from os import path\n",
    "\n",
    "import numpy as np\n",
    "import pexpect\n",
    "from pexpect import popen_spawn\n",
    "from tqdm.notebook import tnrange, tqdm"
   ]
  },
  {
   "cell_type": "markdown",
   "metadata": {},
   "source": [
    "## Params and constants"
   ]
  },
  {
   "cell_type": "code",
   "execution_count": 2,
   "metadata": {},
   "outputs": [],
   "source": [
    "SOLVER_PATH = \"C:/PioSOLVER/PioSOLVER2-pro.exe\"\n",
    "SCRIPT_PATH = \"C:/Users/Christopher/Documents/autosim/testscript.txt\""
   ]
  },
  {
   "cell_type": "markdown",
   "metadata": {},
   "source": [
    "## Helper methods"
   ]
  },
  {
   "cell_type": "code",
   "execution_count": 3,
   "metadata": {},
   "outputs": [],
   "source": [
    "def read_before(proc):\n",
    "    return proc.before.decode().strip()\n",
    "    \n",
    "\n",
    "def print_before(proc):\n",
    "    print(read_before(proc))\n",
    "\n",
    "    \n",
    "def clear_output_buffer(proc, timeout=1):\n",
    "    \"\"\"Clear the buffer for proc.readlines.\"\"\"\n",
    "    while proc.expect([\".+\", pexpect.TIMEOUT], timeout=timeout) == 0:\n",
    "        pass"
   ]
  },
  {
   "cell_type": "markdown",
   "metadata": {},
   "source": [
    "## Main"
   ]
  },
  {
   "cell_type": "code",
   "execution_count": 4,
   "metadata": {
    "scrolled": true
   },
   "outputs": [
    {
     "name": "stdout",
     "output_type": "stream",
     "text": [
      "PioSOLVER-pro 2.0.5 (Apr 21 2021, 15:34:41)\r\n",
      "(c) Piotr Lopusiewicz\r\n",
      "registered to gittermanh@gmail.com\n"
     ]
    }
   ],
   "source": [
    "proc = popen_spawn.PopenSpawn(SOLVER_PATH, cwd=path.dirname(SOLVER_PATH))\n",
    "proc.expect(\"\\r\\n\\r\\n\")  # sent by the solver process after starting\n",
    "print_before(proc)"
   ]
  },
  {
   "cell_type": "code",
   "execution_count": 5,
   "metadata": {},
   "outputs": [
    {
     "name": "stdout",
     "output_type": "stream",
     "text": [
      "set_end_string ok!\n"
     ]
    }
   ],
   "source": [
    "proc.sendline(\"set_end_string END\")\n",
    "proc.expect(\"END\")\n",
    "print_before(proc)"
   ]
  },
  {
   "cell_type": "code",
   "execution_count": 6,
   "metadata": {},
   "outputs": [
    {
     "name": "stdout",
     "output_type": "stream",
     "text": [
      "is_ready ok!\n"
     ]
    }
   ],
   "source": [
    "proc.sendline(\"is_ready\")\n",
    "proc.expect(\"END\")\n",
    "print_before(proc)"
   ]
  },
  {
   "cell_type": "code",
   "execution_count": 7,
   "metadata": {},
   "outputs": [
    {
     "name": "stdout",
     "output_type": "stream",
     "text": [
      "reset_tree_info ok!\r\n",
      "add_info_line ok!\r\n",
      "add_info_line ok!\r\n",
      "add_info_line ok!\r\n",
      "add_info_line ok!\r\n",
      "add_info_line ok!\r\n",
      "add_info_line ok!\r\n",
      "add_info_line ok!\r\n",
      "add_info_line ok!\r\n",
      "add_info_line ok!\r\n",
      "add_info_line ok!\r\n",
      "add_info_line ok!\r\n",
      "add_info_line ok!\r\n",
      "add_info_line ok!\r\n",
      "add_info_line ok!\r\n",
      "add_info_line ok!\r\n",
      "add_info_line ok!\r\n",
      "add_info_line ok!\r\n",
      "add_info_line ok!\r\n",
      "add_info_line ok!\r\n",
      "add_info_line ok!\r\n",
      "add_info_line ok!\r\n",
      "add_info_line ok!\r\n",
      "add_info_line ok!\r\n",
      "add_info_line ok!\r\n",
      "set_algorithm ok!\r\n",
      "set_threads ok!\r\n",
      "set_accuracy ok!\r\n",
      "set_range ok!\r\n",
      "set_range ok!\r\n",
      "set_board ok!\r\n",
      "set_eff_stack ok!\r\n",
      "set_isomorphism ok!\r\n",
      "set_pot ok!\r\n",
      "clear_lines ok!\r\n",
      "add_line ok!\r\n",
      "add_line ok!\r\n",
      "add_line ok!\r\n",
      "add_line ok!\r\n",
      "add_line ok!\r\n",
      "add_line ok!\r\n",
      "add_line ok!\r\n",
      "add_line ok!\r\n",
      "add_line ok!\r\n",
      "add_line ok!\r\n",
      "add_line ok!\r\n",
      "add_line ok!\r\n",
      "add_line ok!\r\n",
      "add_line ok!\r\n",
      "add_line ok!\r\n",
      "add_line ok!\r\n",
      "add_line ok!\r\n",
      "add_line ok!\r\n",
      "add_line ok!\r\n",
      "add_line ok!\r\n",
      "add_line ok!\r\n",
      "add_line ok!\r\n",
      "add_line ok!\r\n",
      "add_line ok!\r\n",
      "add_line ok!\r\n",
      "add_line ok!\r\n",
      "add_line ok!\r\n",
      "add_line ok!\r\n",
      "add_line ok!\r\n",
      "add_line ok!\r\n",
      "add_line ok!\r\n",
      "add_line ok!\r\n",
      "add_line ok!\r\n",
      "add_line ok!\r\n",
      "add_line ok!\r\n",
      "add_line ok!\r\n",
      "add_line ok!\r\n",
      "add_line ok!\r\n",
      "add_line ok!\r\n",
      "add_line ok!\r\n",
      "add_line ok!\r\n",
      "add_line ok!\r\n",
      "add_line ok!\r\n",
      "load_script_silent ok!\n"
     ]
    }
   ],
   "source": [
    "proc.sendline(f\"load_script_silent {SCRIPT_PATH}\")\n",
    "proc.expect(\"END\")\n",
    "print_before(proc)"
   ]
  },
  {
   "cell_type": "code",
   "execution_count": 8,
   "metadata": {},
   "outputs": [
    {
     "name": "stdout",
     "output_type": "stream",
     "text": [
      "build_tree ok!\n"
     ]
    }
   ],
   "source": [
    "proc.sendline(\"build_tree\")\n",
    "proc.expect(\"END\")\n",
    "print_before(proc)"
   ]
  },
  {
   "cell_type": "code",
   "execution_count": 9,
   "metadata": {},
   "outputs": [],
   "source": [
    "script = \\\n",
    "\"\"\" \n",
    "skip_if_done \"Saves/2021-04-28_21-56-35_b30simple_btnvsco/Js5h4s.cfr\" next\n",
    "go 600 seconds\n",
    "wait_for_solver \n",
    "dump_tree \"Saves/2021-04-28_21-56-35_b30simple_btnvsco/Js5h4s.cfr\" no_rivers\n",
    "LABEL: next\n",
    "echo  \"1 out of 1 done\"\n",
    "solver_time \n",
    "echo \"Script has completed. You can close this window. Result files are in Saves\\2021-04-28_21-56-35_b30simple_btnvsco directory\"\n",
    "\"\"\""
   ]
  },
  {
   "cell_type": "code",
   "execution_count": 10,
   "metadata": {},
   "outputs": [
    {
     "name": "stdout",
     "output_type": "stream",
     "text": [
      " \n"
     ]
    },
    {
     "ename": "TIMEOUT",
     "evalue": "<pexpect.popen_spawn.PopenSpawn object at 0x000001D5061AC070>\nsearcher: searcher_re:\n    0: re.compile(b'END')\n<pexpect.popen_spawn.PopenSpawn object at 0x000001D5061AC070>\nsearcher: searcher_re:\n    0: re.compile(b'END')",
     "output_type": "error",
     "traceback": [
      "\u001b[1;31m---------------------------------------------------------------------------\u001b[0m",
      "\u001b[1;31mTIMEOUT\u001b[0m                                   Traceback (most recent call last)",
      "\u001b[1;32m<ipython-input-10-d735a893f8cf>\u001b[0m in \u001b[0;36m<module>\u001b[1;34m\u001b[0m\n\u001b[0;32m      3\u001b[0m     \u001b[0mprint\u001b[0m\u001b[1;33m(\u001b[0m\u001b[0mline\u001b[0m\u001b[1;33m)\u001b[0m\u001b[1;33m\u001b[0m\u001b[1;33m\u001b[0m\u001b[0m\n\u001b[0;32m      4\u001b[0m     \u001b[0mproc\u001b[0m\u001b[1;33m.\u001b[0m\u001b[0msendline\u001b[0m\u001b[1;33m(\u001b[0m\u001b[0mline\u001b[0m\u001b[1;33m)\u001b[0m\u001b[1;33m\u001b[0m\u001b[1;33m\u001b[0m\u001b[0m\n\u001b[1;32m----> 5\u001b[1;33m     \u001b[0mproc\u001b[0m\u001b[1;33m.\u001b[0m\u001b[0mexpect\u001b[0m\u001b[1;33m(\u001b[0m\u001b[1;34m\"END\"\u001b[0m\u001b[1;33m)\u001b[0m\u001b[1;33m\u001b[0m\u001b[1;33m\u001b[0m\u001b[0m\n\u001b[0m\u001b[0;32m      6\u001b[0m     \u001b[0mprint_before\u001b[0m\u001b[1;33m(\u001b[0m\u001b[0mproc\u001b[0m\u001b[1;33m)\u001b[0m\u001b[1;33m\u001b[0m\u001b[1;33m\u001b[0m\u001b[0m\n",
      "\u001b[1;32mC:\\ProgramData\\Anaconda3\\lib\\site-packages\\pexpect\\spawnbase.py\u001b[0m in \u001b[0;36mexpect\u001b[1;34m(self, pattern, timeout, searchwindowsize, async_, **kw)\u001b[0m\n\u001b[0;32m    341\u001b[0m \u001b[1;33m\u001b[0m\u001b[0m\n\u001b[0;32m    342\u001b[0m         \u001b[0mcompiled_pattern_list\u001b[0m \u001b[1;33m=\u001b[0m \u001b[0mself\u001b[0m\u001b[1;33m.\u001b[0m\u001b[0mcompile_pattern_list\u001b[0m\u001b[1;33m(\u001b[0m\u001b[0mpattern\u001b[0m\u001b[1;33m)\u001b[0m\u001b[1;33m\u001b[0m\u001b[1;33m\u001b[0m\u001b[0m\n\u001b[1;32m--> 343\u001b[1;33m         return self.expect_list(compiled_pattern_list,\n\u001b[0m\u001b[0;32m    344\u001b[0m                 timeout, searchwindowsize, async_)\n\u001b[0;32m    345\u001b[0m \u001b[1;33m\u001b[0m\u001b[0m\n",
      "\u001b[1;32mC:\\ProgramData\\Anaconda3\\lib\\site-packages\\pexpect\\spawnbase.py\u001b[0m in \u001b[0;36mexpect_list\u001b[1;34m(self, pattern_list, timeout, searchwindowsize, async_, **kw)\u001b[0m\n\u001b[0;32m    370\u001b[0m             \u001b[1;32mreturn\u001b[0m \u001b[0mexpect_async\u001b[0m\u001b[1;33m(\u001b[0m\u001b[0mexp\u001b[0m\u001b[1;33m,\u001b[0m \u001b[0mtimeout\u001b[0m\u001b[1;33m)\u001b[0m\u001b[1;33m\u001b[0m\u001b[1;33m\u001b[0m\u001b[0m\n\u001b[0;32m    371\u001b[0m         \u001b[1;32melse\u001b[0m\u001b[1;33m:\u001b[0m\u001b[1;33m\u001b[0m\u001b[1;33m\u001b[0m\u001b[0m\n\u001b[1;32m--> 372\u001b[1;33m             \u001b[1;32mreturn\u001b[0m \u001b[0mexp\u001b[0m\u001b[1;33m.\u001b[0m\u001b[0mexpect_loop\u001b[0m\u001b[1;33m(\u001b[0m\u001b[0mtimeout\u001b[0m\u001b[1;33m)\u001b[0m\u001b[1;33m\u001b[0m\u001b[1;33m\u001b[0m\u001b[0m\n\u001b[0m\u001b[0;32m    373\u001b[0m \u001b[1;33m\u001b[0m\u001b[0m\n\u001b[0;32m    374\u001b[0m     def expect_exact(self, pattern_list, timeout=-1, searchwindowsize=-1,\n",
      "\u001b[1;32mC:\\ProgramData\\Anaconda3\\lib\\site-packages\\pexpect\\expect.py\u001b[0m in \u001b[0;36mexpect_loop\u001b[1;34m(self, timeout)\u001b[0m\n\u001b[0;32m    179\u001b[0m             \u001b[1;32mreturn\u001b[0m \u001b[0mself\u001b[0m\u001b[1;33m.\u001b[0m\u001b[0meof\u001b[0m\u001b[1;33m(\u001b[0m\u001b[0me\u001b[0m\u001b[1;33m)\u001b[0m\u001b[1;33m\u001b[0m\u001b[1;33m\u001b[0m\u001b[0m\n\u001b[0;32m    180\u001b[0m         \u001b[1;32mexcept\u001b[0m \u001b[0mTIMEOUT\u001b[0m \u001b[1;32mas\u001b[0m \u001b[0me\u001b[0m\u001b[1;33m:\u001b[0m\u001b[1;33m\u001b[0m\u001b[1;33m\u001b[0m\u001b[0m\n\u001b[1;32m--> 181\u001b[1;33m             \u001b[1;32mreturn\u001b[0m \u001b[0mself\u001b[0m\u001b[1;33m.\u001b[0m\u001b[0mtimeout\u001b[0m\u001b[1;33m(\u001b[0m\u001b[0me\u001b[0m\u001b[1;33m)\u001b[0m\u001b[1;33m\u001b[0m\u001b[1;33m\u001b[0m\u001b[0m\n\u001b[0m\u001b[0;32m    182\u001b[0m         \u001b[1;32mexcept\u001b[0m\u001b[1;33m:\u001b[0m\u001b[1;33m\u001b[0m\u001b[1;33m\u001b[0m\u001b[0m\n\u001b[0;32m    183\u001b[0m             \u001b[0mself\u001b[0m\u001b[1;33m.\u001b[0m\u001b[0merrored\u001b[0m\u001b[1;33m(\u001b[0m\u001b[1;33m)\u001b[0m\u001b[1;33m\u001b[0m\u001b[1;33m\u001b[0m\u001b[0m\n",
      "\u001b[1;32mC:\\ProgramData\\Anaconda3\\lib\\site-packages\\pexpect\\expect.py\u001b[0m in \u001b[0;36mtimeout\u001b[1;34m(self, err)\u001b[0m\n\u001b[0;32m    142\u001b[0m             \u001b[0mexc\u001b[0m \u001b[1;33m=\u001b[0m \u001b[0mTIMEOUT\u001b[0m\u001b[1;33m(\u001b[0m\u001b[0mmsg\u001b[0m\u001b[1;33m)\u001b[0m\u001b[1;33m\u001b[0m\u001b[1;33m\u001b[0m\u001b[0m\n\u001b[0;32m    143\u001b[0m             \u001b[0mexc\u001b[0m\u001b[1;33m.\u001b[0m\u001b[0m__cause__\u001b[0m \u001b[1;33m=\u001b[0m \u001b[1;32mNone\u001b[0m    \u001b[1;31m# in Python 3.x we can use \"raise exc from None\"\u001b[0m\u001b[1;33m\u001b[0m\u001b[1;33m\u001b[0m\u001b[0m\n\u001b[1;32m--> 144\u001b[1;33m             \u001b[1;32mraise\u001b[0m \u001b[0mexc\u001b[0m\u001b[1;33m\u001b[0m\u001b[1;33m\u001b[0m\u001b[0m\n\u001b[0m\u001b[0;32m    145\u001b[0m \u001b[1;33m\u001b[0m\u001b[0m\n\u001b[0;32m    146\u001b[0m     \u001b[1;32mdef\u001b[0m \u001b[0merrored\u001b[0m\u001b[1;33m(\u001b[0m\u001b[0mself\u001b[0m\u001b[1;33m)\u001b[0m\u001b[1;33m:\u001b[0m\u001b[1;33m\u001b[0m\u001b[1;33m\u001b[0m\u001b[0m\n",
      "\u001b[1;31mTIMEOUT\u001b[0m: <pexpect.popen_spawn.PopenSpawn object at 0x000001D5061AC070>\nsearcher: searcher_re:\n    0: re.compile(b'END')\n<pexpect.popen_spawn.PopenSpawn object at 0x000001D5061AC070>\nsearcher: searcher_re:\n    0: re.compile(b'END')"
     ]
    }
   ],
   "source": [
    "clear_output_buffer(proc)\n",
    "for line in script.split(\"\\n\"):\n",
    "    print(line)\n",
    "    proc.sendline(line)\n",
    "    proc.expect(\"END\")\n",
    "    print_before(proc)"
   ]
  },
  {
   "cell_type": "code",
   "execution_count": 35,
   "metadata": {},
   "outputs": [
    {
     "name": "stdout",
     "output_type": "stream",
     "text": [
      "\n"
     ]
    }
   ],
   "source": [
    "print_before(proc)"
   ]
  },
  {
   "cell_type": "code",
   "execution_count": null,
   "metadata": {},
   "outputs": [],
   "source": [
    "times = []\n",
    "oop_evs = []\n",
    "ip_evs = []\n",
    "nash_deltas = []\n",
    "for i in tnrange(50):\n",
    "    t_start = time.time()\n",
    "\n",
    "    proc.sendline(\"go 1 steps\")\n",
    "    proc.expect(\"SOLVER: stopped \\(.*\\)\")\n",
    "\n",
    "    proc.sendline(\"calc_results\")\n",
    "    proc.expect(\"END\");\n",
    "    res = proc.before.decode().strip()\n",
    "\n",
    "    res_oop_ev = re.search(\"EV OOP.*\", res).group()\n",
    "    oop_ev = float(re.search(\"\\d+\\.\\d+\", res_oop_ev).group())\n",
    "    oop_evs.append(oop_ev)\n",
    "    \n",
    "    res_ip_ev = re.search(\"EV IP.*\", res).group()\n",
    "    ip_ev = float(re.search(\"\\d+\\.\\d+\", res_ip_ev).group())\n",
    "    ip_evs.append(ip_ev)\n",
    "    \n",
    "    res_nash_delta = re.search(\"Exploitable for.*\", res).group()\n",
    "    nash_delta = float(re.search(\"\\d+\\.\\d+\", res_nash_delta).group())\n",
    "    nash_deltas.append(nash_delta)\n",
    "\n",
    "    t_delta = time.time() - t_start\n",
    "    times.append(t_delta)"
   ]
  },
  {
   "cell_type": "code",
   "execution_count": 85,
   "metadata": {},
   "outputs": [
    {
     "data": {
      "image/png": "[encoded data removed]",
      "text/plain": [
       "<Figure size 432x288 with 1 Axes>"
      ]
     },
     "metadata": {
      "needs_background": "light"
     },
     "output_type": "display_data"
    }
   ],
   "source": [
    "plt.plot(oop_evs, label=\"OOP\")\n",
    "plt.plot(ip_evs, label=\"IP\")\n",
    "plt.xlabel(\"Step\")\n",
    "plt.ylabel(\"EV\")\n",
    "plt.legend()\n",
    "plt.show()"
   ]
  },
  {
   "cell_type": "code",
   "execution_count": 77,
   "metadata": {},
   "outputs": [
    {
     "data": {
      "image/png": "[encoded data removed]",
      "text/plain": [
       "<Figure size 432x288 with 1 Axes>"
      ]
     },
     "metadata": {
      "needs_background": "light"
     },
     "output_type": "display_data"
    }
   ],
   "source": [
    "plt.plot(nash_deltas)\n",
    "plt.xlabel(\"Step\")\n",
    "plt.ylabel(\"Exploitability\")\n",
    "plt.show()"
   ]
  },
  {
   "cell_type": "code",
   "execution_count": 78,
   "metadata": {},
   "outputs": [
    {
     "data": {
      "image/png": "[encoded data removed]",
      "text/plain": [
       "<Figure size 432x288 with 1 Axes>"
      ]
     },
     "metadata": {
      "needs_background": "light"
     },
     "output_type": "display_data"
    }
   ],
   "source": [
    "cum_times = np.cumsum(times)\n",
    "plt.plot(cum_times)\n",
    "plt.xlabel(\"Step\")\n",
    "plt.ylabel(\"Cumulative time (s)\")\n",
    "plt.show()"
   ]
  },
  {
   "cell_type": "code",
   "execution_count": 5,
   "metadata": {},
   "outputs": [
    {
     "ename": "NameError",
     "evalue": "name 'proc' is not defined",
     "output_type": "error",
     "traceback": [
      "\u001b[1;31m---------------------------------------------------------------------------\u001b[0m",
      "\u001b[1;31mNameError\u001b[0m                                 Traceback (most recent call last)",
      "\u001b[1;32m<ipython-input-5-49f88b92b24b>\u001b[0m in \u001b[0;36m<module>\u001b[1;34m\u001b[0m\n\u001b[1;32m----> 1\u001b[1;33m \u001b[0mproc\u001b[0m\u001b[1;33m.\u001b[0m\u001b[0msendline\u001b[0m\u001b[1;33m(\u001b[0m\u001b[1;34m\"exit\"\u001b[0m\u001b[1;33m)\u001b[0m\u001b[1;33m;\u001b[0m\u001b[1;33m\u001b[0m\u001b[1;33m\u001b[0m\u001b[0m\n\u001b[0m",
      "\u001b[1;31mNameError\u001b[0m: name 'proc' is not defined"
     ]
    }
   ],
   "source": [
    "proc.sendline(\"exit\");"
   ]
  },
  {
   "cell_type": "code",
   "execution_count": null,
   "metadata": {},
   "outputs": [],
   "source": []
  },
  {
   "cell_type": "code",
   "execution_count": null,
   "metadata": {},
   "outputs": [],
   "source": []
  },
  {
   "cell_type": "code",
   "execution_count": null,
   "metadata": {},
   "outputs": [],
   "source": []
  },
  {
   "cell_type": "code",
   "execution_count": 104,
   "metadata": {},
   "outputs": [],
   "source": [
    "proc.sendline(\"exit\");\n",
    "# proc.kill(signal.SIGTERM)"
   ]
  },
  {
   "cell_type": "code",
   "execution_count": null,
   "metadata": {},
   "outputs": [],
   "source": []
  }
 ],
 "metadata": {
  "kernelspec": {
   "display_name": "Python 3",
   "language": "python",
   "name": "python3"
  },
  "language_info": {
   "codemirror_mode": {
    "name": "ipython",
    "version": 3
   },
   "file_extension": ".py",
   "mimetype": "text/x-python",
   "name": "python",
   "nbconvert_exporter": "python",
   "pygments_lexer": "ipython3",
   "version": "3.8.5"
  }
 },
 "nbformat": 4,
 "nbformat_minor": 4
}

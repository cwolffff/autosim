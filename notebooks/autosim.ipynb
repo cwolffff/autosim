{
 "cells": [
  {
   "cell_type": "markdown",
   "metadata": {},
   "source": [
    "## Imports"
   ]
  },
  {
   "cell_type": "code",
   "execution_count": 1,
   "metadata": {},
   "outputs": [],
   "source": [
    "import re\n",
    "import signal\n",
    "import time\n",
    "from matplotlib import pyplot as plt\n",
    "from os import path\n",
    "\n",
    "import numpy as np\n",
    "import pexpect\n",
    "from pexpect import popen_spawn\n",
    "from tqdm.notebook import tnrange, tqdm"
   ]
  },
  {
   "cell_type": "markdown",
   "metadata": {},
   "source": [
    "## Params and constants"
   ]
  },
  {
   "cell_type": "code",
   "execution_count": 2,
   "metadata": {},
   "outputs": [],
   "source": [
    "SOLVER_PATH = \"C:/PioSOLVER/PioSOLVER2-pro.exe\"\n",
    "SCRIPT_PATH = \"C:/Users/Christopher/Documents/autosim/testscript.txt\""
   ]
  },
  {
   "cell_type": "markdown",
   "metadata": {},
   "source": [
    "## Helper methods"
   ]
  },
  {
   "cell_type": "code",
   "execution_count": 3,
   "metadata": {},
   "outputs": [],
   "source": [
    "def read_before(proc):\n",
    "    return proc.before.decode().strip()\n",
    "    \n",
    "\n",
    "def print_before(proc):\n",
    "    print(read_before(proc))\n",
    "\n",
    "    \n",
    "def clear_output_buffer(proc, timeout=1):\n",
    "    \"\"\"Clear the buffer for proc.readlines.\"\"\"\n",
    "    while proc.expect([\".+\", pexpect.TIMEOUT], timeout=timeout) == 0:\n",
    "        pass"
   ]
  },
  {
   "cell_type": "markdown",
   "metadata": {},
   "source": [
    "## Main"
   ]
  },
  {
   "cell_type": "code",
   "execution_count": null,
   "metadata": {
    "scrolled": true
   },
   "outputs": [],
   "source": [
    "proc = popen_spawn.PopenSpawn(SOLVER_PATH, cwd=path.dirname(SOLVER_PATH))\n",
    "proc.expect(\"\\r\\n\\r\\n\")  # sent by the solver process after starting\n",
    "print_before(proc)"
   ]
  },
  {
   "cell_type": "code",
   "execution_count": null,
   "metadata": {},
   "outputs": [],
   "source": [
    "proc.sendline(\"set_end_string END\")\n",
    "proc.expect(\"END\")\n",
    "print_before(proc)"
   ]
  },
  {
   "cell_type": "code",
   "execution_count": null,
   "metadata": {},
   "outputs": [],
   "source": [
    "proc.sendline(\"is_ready\")\n",
    "proc.expect(\"END\")\n",
    "print_before(proc)"
   ]
  },
  {
   "cell_type": "code",
   "execution_count": null,
   "metadata": {},
   "outputs": [],
   "source": [
    "proc.sendline(f\"load_script_silent {SCRIPT_PATH}\")\n",
    "proc.expect(\"END\")\n",
    "print_before(proc)"
   ]
  },
  {
   "cell_type": "code",
   "execution_count": null,
   "metadata": {},
   "outputs": [],
   "source": [
    "proc.sendline(\"build_tree\")\n",
    "proc.expect(\"END\")\n",
    "print_before(proc)"
   ]
  },
  {
   "cell_type": "code",
   "execution_count": null,
   "metadata": {},
   "outputs": [],
   "source": [
    "script = \\\n",
    "\"\"\" \n",
    "skip_if_done \"Saves/2021-04-28_21-56-35_b30simple_btnvsco/Js5h4s.cfr\" next\n",
    "go 600 seconds\n",
    "wait_for_solver \n",
    "dump_tree \"Saves/2021-04-28_21-56-35_b30simple_btnvsco/Js5h4s.cfr\" no_rivers\n",
    "LABEL: next\n",
    "echo  \"1 out of 1 done\"\n",
    "solver_time \n",
    "echo \"Script has completed. You can close this window. Result files are in Saves\\2021-04-28_21-56-35_b30simple_btnvsco directory\"\n",
    "\"\"\""
   ]
  },
  {
   "cell_type": "code",
   "execution_count": null,
   "metadata": {},
   "outputs": [],
   "source": [
    "clear_output_buffer(proc)\n",
    "for line in script.split(\"\\n\"):\n",
    "    print(line)\n",
    "    proc.sendline(line)\n",
    "    proc.expect(\"END\")\n",
    "    print_before(proc)"
   ]
  },
  {
   "cell_type": "code",
   "execution_count": null,
   "metadata": {},
   "outputs": [],
   "source": [
    "print_before(proc)"
   ]
  },
  {
   "cell_type": "code",
   "execution_count": null,
   "metadata": {},
   "outputs": [],
   "source": [
    "times = []\n",
    "oop_evs = []\n",
    "ip_evs = []\n",
    "nash_deltas = []\n",
    "for i in tnrange(50):\n",
    "    t_start = time.time()\n",
    "\n",
    "    proc.sendline(\"go 1 steps\")\n",
    "    proc.expect(\"SOLVER: stopped \\(.*\\)\")\n",
    "\n",
    "    proc.sendline(\"calc_results\")\n",
    "    proc.expect(\"END\");\n",
    "    res = proc.before.decode().strip()\n",
    "\n",
    "    res_oop_ev = re.search(\"EV OOP.*\", res).group()\n",
    "    oop_ev = float(re.search(\"\\d+\\.\\d+\", res_oop_ev).group())\n",
    "    oop_evs.append(oop_ev)\n",
    "    \n",
    "    res_ip_ev = re.search(\"EV IP.*\", res).group()\n",
    "    ip_ev = float(re.search(\"\\d+\\.\\d+\", res_ip_ev).group())\n",
    "    ip_evs.append(ip_ev)\n",
    "    \n",
    "    res_nash_delta = re.search(\"Exploitable for.*\", res).group()\n",
    "    nash_delta = float(re.search(\"\\d+\\.\\d+\", res_nash_delta).group())\n",
    "    nash_deltas.append(nash_delta)\n",
    "\n",
    "    t_delta = time.time() - t_start\n",
    "    times.append(t_delta)"
   ]
  },
  {
   "cell_type": "code",
   "execution_count": null,
   "metadata": {},
   "outputs": [],
   "source": [
    "plt.plot(oop_evs, label=\"OOP\")\n",
    "plt.plot(ip_evs, label=\"IP\")\n",
    "plt.xlabel(\"Step\")\n",
    "plt.ylabel(\"EV\")\n",
    "plt.legend()\n",
    "plt.show()"
   ]
  },
  {
   "cell_type": "code",
   "execution_count": null,
   "metadata": {},
   "outputs": [],
   "source": [
    "plt.plot(nash_deltas)\n",
    "plt.xlabel(\"Step\")\n",
    "plt.ylabel(\"Exploitability\")\n",
    "plt.show()"
   ]
  },
  {
   "cell_type": "code",
   "execution_count": null,
   "metadata": {},
   "outputs": [],
   "source": [
    "cum_times = np.cumsum(times)\n",
    "plt.plot(cum_times)\n",
    "plt.xlabel(\"Step\")\n",
    "plt.ylabel(\"Cumulative time (s)\")\n",
    "plt.show()"
   ]
  },
  {
   "cell_type": "code",
   "execution_count": null,
   "metadata": {},
   "outputs": [],
   "source": [
    "proc.sendline(\"exit\");"
   ]
  },
  {
   "cell_type": "code",
   "execution_count": null,
   "metadata": {},
   "outputs": [],
   "source": []
  },
  {
   "cell_type": "code",
   "execution_count": null,
   "metadata": {},
   "outputs": [],
   "source": []
  },
  {
   "cell_type": "code",
   "execution_count": null,
   "metadata": {},
   "outputs": [],
   "source": []
  },
  {
   "cell_type": "code",
   "execution_count": null,
   "metadata": {},
   "outputs": [],
   "source": [
    "proc.sendline(\"exit\");\n",
    "# proc.kill(signal.SIGTERM)"
   ]
  },
  {
   "cell_type": "code",
   "execution_count": null,
   "metadata": {},
   "outputs": [],
   "source": []
  }
 ],
 "metadata": {
  "kernelspec": {
   "display_name": "Python 3",
   "language": "python",
   "name": "python3"
  },
  "language_info": {
   "codemirror_mode": {
    "name": "ipython",
    "version": 3
   },
   "file_extension": ".py",
   "mimetype": "text/x-python",
   "name": "python",
   "nbconvert_exporter": "python",
   "pygments_lexer": "ipython3",
   "version": "3.8.5"
  }
 },
 "nbformat": 4,
 "nbformat_minor": 4
}

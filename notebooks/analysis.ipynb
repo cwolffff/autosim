{
 "cells": [
  {
   "cell_type": "code",
   "execution_count": 26,
   "metadata": {},
   "outputs": [],
   "source": [
    "import os\n",
    "\n",
    "import numpy as np\n",
    "import pandas as pd\n",
    "import seaborn as sns\n",
    "from matplotlib import pyplot as plt\n",
    "\n",
    "from functools import reduce"
   ]
  },
  {
   "cell_type": "code",
   "execution_count": 105,
   "metadata": {},
   "outputs": [],
   "source": [
    "ROOTDIR = \"C:/Users/christopher/Documents/autosim\"\n",
    "SPOT = \"3b_CO_BTN\"\n",
    "DATADIR = f\"{ROOTDIR}/out/{SPOT}\"\n",
    "POTSIZE = 185"
   ]
  },
  {
   "cell_type": "code",
   "execution_count": 109,
   "metadata": {},
   "outputs": [
    {
     "data": {
      "text/html": [
       "<div>\n",
       "<style scoped>\n",
       "    .dataframe tbody tr th:only-of-type {\n",
       "        vertical-align: middle;\n",
       "    }\n",
       "\n",
       "    .dataframe tbody tr th {\n",
       "        vertical-align: top;\n",
       "    }\n",
       "\n",
       "    .dataframe thead th {\n",
       "        text-align: right;\n",
       "    }\n",
       "</style>\n",
       "<table border=\"1\" class=\"dataframe\">\n",
       "  <thead>\n",
       "    <tr style=\"text-align: right;\">\n",
       "      <th></th>\n",
       "      <th>board</th>\n",
       "      <th>strategy</th>\n",
       "      <th>ev</th>\n",
       "    </tr>\n",
       "  </thead>\n",
       "  <tbody>\n",
       "    <tr>\n",
       "      <th>0</th>\n",
       "      <td>2d3sAs</td>\n",
       "      <td>full</td>\n",
       "      <td>109.504</td>\n",
       "    </tr>\n",
       "    <tr>\n",
       "      <th>1</th>\n",
       "      <td>2d3sAs</td>\n",
       "      <td>37</td>\n",
       "      <td>108.976</td>\n",
       "    </tr>\n",
       "    <tr>\n",
       "      <th>2</th>\n",
       "      <td>2d3sAs</td>\n",
       "      <td>61</td>\n",
       "      <td>109.416</td>\n",
       "    </tr>\n",
       "    <tr>\n",
       "      <th>3</th>\n",
       "      <td>2d3sAs</td>\n",
       "      <td>92</td>\n",
       "      <td>109.554</td>\n",
       "    </tr>\n",
       "    <tr>\n",
       "      <th>4</th>\n",
       "      <td>2d3sAs</td>\n",
       "      <td>139</td>\n",
       "      <td>109.453</td>\n",
       "    </tr>\n",
       "    <tr>\n",
       "      <th>...</th>\n",
       "      <td>...</td>\n",
       "      <td>...</td>\n",
       "      <td>...</td>\n",
       "    </tr>\n",
       "    <tr>\n",
       "      <th>75</th>\n",
       "      <td>QsQdTc</td>\n",
       "      <td>full</td>\n",
       "      <td>131.777</td>\n",
       "    </tr>\n",
       "    <tr>\n",
       "      <th>76</th>\n",
       "      <td>QsQdTc</td>\n",
       "      <td>37</td>\n",
       "      <td>131.463</td>\n",
       "    </tr>\n",
       "    <tr>\n",
       "      <th>77</th>\n",
       "      <td>QsQdTc</td>\n",
       "      <td>61</td>\n",
       "      <td>131.272</td>\n",
       "    </tr>\n",
       "    <tr>\n",
       "      <th>78</th>\n",
       "      <td>QsQdTc</td>\n",
       "      <td>92</td>\n",
       "      <td>129.575</td>\n",
       "    </tr>\n",
       "    <tr>\n",
       "      <th>79</th>\n",
       "      <td>QsQdTc</td>\n",
       "      <td>139</td>\n",
       "      <td>127.272</td>\n",
       "    </tr>\n",
       "  </tbody>\n",
       "</table>\n",
       "<p>80 rows × 3 columns</p>\n",
       "</div>"
      ],
      "text/plain": [
       "     board strategy       ev\n",
       "0   2d3sAs     full  109.504\n",
       "1   2d3sAs       37  108.976\n",
       "2   2d3sAs       61  109.416\n",
       "3   2d3sAs       92  109.554\n",
       "4   2d3sAs      139  109.453\n",
       "..     ...      ...      ...\n",
       "75  QsQdTc     full  131.777\n",
       "76  QsQdTc       37  131.463\n",
       "77  QsQdTc       61  131.272\n",
       "78  QsQdTc       92  129.575\n",
       "79  QsQdTc      139  127.272\n",
       "\n",
       "[80 rows x 3 columns]"
      ]
     },
     "execution_count": 109,
     "metadata": {},
     "output_type": "execute_result"
    }
   ],
   "source": [
    "dfs = []\n",
    "for board in os.listdir(DATADIR):\n",
    "    datapath = f\"{DATADIR}/{board}/data.csv\"\n",
    "    df = pd.read_csv(datapath)\n",
    "    df[\"board\"] = board\n",
    "    cols = df.columns.tolist()\n",
    "    newcols = cols[-1:] + cols[:-1]\n",
    "    df = df[newcols]\n",
    "    dfs.append(df)\n",
    "data = pd.concat(dfs)\n",
    "data = data.reset_index(drop=True)\n",
    "data.drop(\"exploitability\", axis=1)"
   ]
  },
  {
   "cell_type": "code",
   "execution_count": 107,
   "metadata": {},
   "outputs": [],
   "source": [
    "def strategy_as_perc(s):\n",
    "    if not s.isnumeric():\n",
    "        return s\n",
    "    perc = int((int(s) / POTSIZE) * 100)\n",
    "    return f\"b{perc}\"\n",
    "data[\"strategy\"] = data[\"strategy\"].apply(strategy_as_perc)"
   ]
  },
  {
   "cell_type": "code",
   "execution_count": 108,
   "metadata": {},
   "outputs": [
    {
     "name": "stdout",
     "output_type": "stream",
     "text": [
      "['2d3sAs', '2d5s6s', '2d7sJs', '2s9dKc', '3d9sTs', '3s5dKs', '3s6d8c', '4d8sAs', '4s6dQs', '4s7s9d', '5s8dTc', '6s9sJd', '7dQsAs', '7sJdKc', 'AsAdTs', 'QsQdTc']\n"
     ]
    }
   ],
   "source": [
    "boards = os.listdir(DATADIR)\n",
    "print(boards)"
   ]
  },
  {
   "cell_type": "code",
   "execution_count": 110,
   "metadata": {},
   "outputs": [],
   "source": [
    "BOARD = \"7sJdKc\""
   ]
  },
  {
   "cell_type": "code",
   "execution_count": 111,
   "metadata": {},
   "outputs": [],
   "source": [
    "ALPHA = 0.2  # controls margin above and below the bars in the plot\n",
    "\n",
    "idxs = data[\"board\"] == BOARD\n",
    "board_data = data[idxs]\n",
    "min_ev = min(board_data[\"ev\"])\n",
    "max_ev = max(board_data[\"ev\"])\n",
    "gap = max_ev - min_ev\n",
    "\n",
    "ylow = min_ev - ALPHA * gap\n",
    "yhigh = max_ev + ALPHA * gap / 2"
   ]
  },
  {
   "cell_type": "code",
   "execution_count": 112,
   "metadata": {},
   "outputs": [
    {
     "data": {
      "image/png": "[encoded data removed]",
      "text/plain": [
       "<Figure size 432x288 with 1 Axes>"
      ]
     },
     "metadata": {
      "needs_background": "light"
     },
     "output_type": "display_data"
    }
   ],
   "source": [
    "sns.barplot(x=\"strategy\", y=\"ev\", data=board_data)\n",
    "plt.title(f\"Strategy comparison for {SPOT} on {BOARD}\")\n",
    "plt.ylim([ylow, yhigh])\n",
    "plt.show()"
   ]
  },
  {
   "cell_type": "code",
   "execution_count": null,
   "metadata": {},
   "outputs": [],
   "source": []
  },
  {
   "cell_type": "code",
   "execution_count": null,
   "metadata": {},
   "outputs": [],
   "source": []
  },
  {
   "cell_type": "code",
   "execution_count": null,
   "metadata": {},
   "outputs": [],
   "source": []
  },
  {
   "cell_type": "code",
   "execution_count": null,
   "metadata": {},
   "outputs": [],
   "source": []
  }
 ],
 "metadata": {
  "kernelspec": {
   "display_name": "Python 3",
   "language": "python",
   "name": "python3"
  },
  "language_info": {
   "codemirror_mode": {
    "name": "ipython",
    "version": 3
   },
   "file_extension": ".py",
   "mimetype": "text/x-python",
   "name": "python",
   "nbconvert_exporter": "python",
   "pygments_lexer": "ipython3",
   "version": "3.8.5"
  }
 },
 "nbformat": 4,
 "nbformat_minor": 4
}

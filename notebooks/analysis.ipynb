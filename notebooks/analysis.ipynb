{
 "cells": [
  {
   "cell_type": "markdown",
   "metadata": {},
   "source": [
    "## Imports and constants"
   ]
  },
  {
   "cell_type": "code",
   "execution_count": 21,
   "metadata": {},
   "outputs": [],
   "source": [
    "import math\n",
    "import os\n",
    "import shutil\n",
    "from collections import Counter\n",
    "\n",
    "import numpy as np\n",
    "import pandas as pd\n",
    "import seaborn as sns\n",
    "from matplotlib import pyplot as plt\n",
    "\n",
    "from functools import partial, reduce"
   ]
  },
  {
   "cell_type": "code",
   "execution_count": 40,
   "metadata": {},
   "outputs": [],
   "source": [
    "ROOTDIR = \"C:/Users/christopher/Documents/autosim\"\n",
    "SPOT = \"3b_CO_BTN_mk2\"\n",
    "DATADIR = f\"{ROOTDIR}/out/sims/{SPOT}\""
   ]
  },
  {
   "cell_type": "code",
   "execution_count": 41,
   "metadata": {},
   "outputs": [],
   "source": [
    "POTSIZE = 185\n",
    "\n",
    "ORDER = [\"2\", \"3\", \"4\", \"5\", \"6\", \"7\", \"8\", \"9\", \"T\", \"J\", \"Q\", \"K\", \"A\"]\n",
    "RANK = {card: i for i, card in enumerate(ORDER)}\n",
    "\n",
    "SUIT_ORDER = [\"d\", \"h\", \"s\", \"c\"]\n",
    "SUIT_RANK = {s: i for i, s in enumerate(SUIT_ORDER)}\n",
    "\n",
    "SUIT_SYMBOLS = {\n",
    "    \"d\": \"\\u2662\",\n",
    "    \"h\": \"\\u2661\",\n",
    "    \"s\": \"\\u2660\",\n",
    "    \"c\": \"\\u2663\",\n",
    "}"
   ]
  },
  {
   "cell_type": "markdown",
   "metadata": {},
   "source": [
    "## Helper methods"
   ]
  },
  {
   "cell_type": "code",
   "execution_count": 42,
   "metadata": {},
   "outputs": [],
   "source": [
    "def rank(board, method=\"sort\"):\n",
    "    \"\"\"\n",
    "    Assign a rank score for a board.\n",
    "    \n",
    "    If method == \"sort\", only the rank of the highest card\n",
    "    matters, unless its a tie, in which case the other cards are considered.\n",
    "\n",
    "    If method == \"sum\", return the sum of the ranks of the individual cards.\n",
    "\n",
    "    \"\"\"\n",
    "    assert method in [\"sort\", \"sum\"]\n",
    "    cards = board[0], board[2], board[4]\n",
    "    ranks = [RANK[card] for card in cards]\n",
    "    sorted_ranks = sorted(ranks)\n",
    "    if method == \"sum\":\n",
    "        return sum(sorted_ranks)\n",
    "    else:\n",
    "        return sum([13 ** i * r for i, r in enumerate(sorted_ranks)])"
   ]
  },
  {
   "cell_type": "code",
   "execution_count": 43,
   "metadata": {},
   "outputs": [],
   "source": [
    "def strategy_as_perc(s):\n",
    "    if not s.isnumeric():\n",
    "        return s\n",
    "    perc = int((int(s) / POTSIZE) * 100)\n",
    "    return f\"b{perc}\""
   ]
  },
  {
   "cell_type": "code",
   "execution_count": 44,
   "metadata": {},
   "outputs": [],
   "source": [
    "def reorder_board(b):\n",
    "    \"\"\"\n",
    "    Sort the cards for a board such that the highest rank cards come first, and\n",
    "    the suits are in the order (clubs, spades, hearts, diamonds).\n",
    "    \"\"\"\n",
    "    cards = [b[:2], b[2:4], b[4:6]]\n",
    "    sorted_cards = sorted(cards, key=lambda c: (RANK[c[0]], SUIT_RANK[c[1]]), reverse=True)\n",
    "    return \"\".join(sorted_cards)"
   ]
  },
  {
   "cell_type": "code",
   "execution_count": 45,
   "metadata": {},
   "outputs": [],
   "source": [
    "def get_suitedness(board):\n",
    "    suits = [board[1], board[3], board[5]]\n",
    "    counts = list(Counter(suits).values())\n",
    "    if max(counts) == 1:\n",
    "        return \"rainbow\"\n",
    "    elif max(counts) == 2:\n",
    "        return \"twotone\"\n",
    "    elif max(counts) == 3:\n",
    "        return \"monotone\"\n",
    "    else:\n",
    "        raise ValueError(f\"Invalid board: {board}\")"
   ]
  },
  {
   "cell_type": "code",
   "execution_count": 46,
   "metadata": {},
   "outputs": [],
   "source": [
    "def pretty_board(board):\n",
    "    suits = [board[1], board[3], board[5]]\n",
    "    pretty_suits = [SUIT_SYMBOLS[s] for s in suits]\n",
    "    new_board = list(board)\n",
    "    new_board[1] = pretty_suits[0]\n",
    "    new_board[3] = pretty_suits[1]\n",
    "    new_board[5] = pretty_suits[2]\n",
    "    return \"\".join(new_board)"
   ]
  },
  {
   "cell_type": "code",
   "execution_count": 47,
   "metadata": {},
   "outputs": [],
   "source": [
    "def get_ybounds(evs, full_ev, alpha=0.2):\n",
    "    min_ev = min(evs)\n",
    "    max_ev = max(max(evs), full_ev)\n",
    "    gap = max_ev - min_ev\n",
    "    ylow = min_ev - alpha * gap\n",
    "    yhigh = max_ev + alpha * gap / 2\n",
    "    return ylow, yhigh\n",
    "\n",
    "\n",
    "def plot_strategies(data, board, spot):\n",
    "    full_ev = full_strat_evs[board]\n",
    "    board_data = data[data[\"board\"] == board]\n",
    "    ylow, yhigh = get_ybounds(board_data[\"ev\"], full_ev)\n",
    "    sns.barplot(x=\"strategy\", y=\"ev\", data=board_data)\n",
    "    plt.axhline(y=full_ev, linestyle=\"--\")\n",
    "    plt.title(pretty_board(board))\n",
    "    plt.xlabel(\"\")\n",
    "    plt.ylim([ylow, yhigh])"
   ]
  },
  {
   "cell_type": "markdown",
   "metadata": {},
   "source": [
    "## Data prep"
   ]
  },
  {
   "cell_type": "code",
   "execution_count": 48,
   "metadata": {},
   "outputs": [],
   "source": [
    "dfs = []\n",
    "for board in os.listdir(DATADIR):\n",
    "    datapath = f\"{DATADIR}/{board}/data.csv\"\n",
    "    df = pd.read_csv(datapath)\n",
    "    df[\"board\"] = board\n",
    "    cols = df.columns.tolist()\n",
    "    newcols = cols[-1:] + cols[:-1]\n",
    "    df = df[newcols]\n",
    "    dfs.append(df)\n",
    "data = pd.concat(dfs)\n",
    "data = data.reset_index(drop=True)"
   ]
  },
  {
   "cell_type": "code",
   "execution_count": 49,
   "metadata": {},
   "outputs": [],
   "source": [
    "data[\"strategy\"] = data[\"strategy\"].apply(strategy_as_perc)\n",
    "\n",
    "data[\"board\"] = data[\"board\"].apply(reorder_board)\n",
    "\n",
    "data[\"suitedness\"] = data[\"board\"].apply(get_suitedness)\n",
    "\n",
    "data[\"rank\"] = data[\"board\"].apply(lambda b: rank(b))"
   ]
  },
  {
   "cell_type": "code",
   "execution_count": 53,
   "metadata": {},
   "outputs": [
    {
     "name": "stdout",
     "output_type": "stream",
     "text": [
      "K♣T♢2♠: 141.83\n",
      "K♠6♠6♢: 138.68\n",
      "A♠J♢3♠: 133.04\n",
      "A♠4♠4♢: 132.26\n",
      "A♠J♢6♠: 131.64\n",
      "Q♠T♠2♢: 128.59\n",
      "K♢6♠4♠: 126.13\n",
      "Q♠7♠7♢: 124.95\n",
      "J♣8♢2♠: 122.58\n",
      "A♢T♠9♠: 122.50\n",
      "Q♣9♢3♠: 119.29\n",
      "K♣8♢7♠: 118.56\n",
      "J♣9♢5♠: 117.81\n",
      "K♠8♠5♠: 116.30\n",
      "J♢T♠7♠: 112.36\n",
      "A♢5♠4♠: 111.35\n",
      "T♣7♢3♠: 111.23\n",
      "9♣4♢2♠: 109.52\n",
      "Q♠8♢6♠: 106.43\n",
      "Q♢9♠7♠: 106.14\n",
      "T♢6♠3♠: 106.14\n",
      "5♠5♢4♠: 105.10\n",
      "8♣5♢3♠: 101.61\n",
      "6♠5♠2♠: 98.44\n"
     ]
    }
   ],
   "source": [
    "full_strat_data = data[data[\"strategy\"] == \"full\"][[\"board\", \"ev\"]]\n",
    "full_strat_evs = {board: ev for board, ev in full_strat_data.values.tolist()}\n",
    "strat_evs_sorted = sorted(full_strat_evs.items(), key=lambda i: i[1], reverse=True)\n",
    "for board, ev in strat_evs_sorted:\n",
    "    print(f\"{pretty_board(board)}: {ev:.2f}\")"
   ]
  },
  {
   "cell_type": "code",
   "execution_count": 54,
   "metadata": {},
   "outputs": [],
   "source": [
    "data = data[data[\"strategy\"] != \"full\"]\n",
    "\n",
    "data[\"ev_upper\"] = data.apply(lambda row: full_strat_evs[row.board], axis=1)\n",
    "\n",
    "data[\"ev_diff\"] = data[\"ev\"] - data[\"ev_upper\"]"
   ]
  },
  {
   "cell_type": "code",
   "execution_count": 55,
   "metadata": {},
   "outputs": [
    {
     "data": {
      "text/html": [
       "<div>\n",
       "<style scoped>\n",
       "    .dataframe tbody tr th:only-of-type {\n",
       "        vertical-align: middle;\n",
       "    }\n",
       "\n",
       "    .dataframe tbody tr th {\n",
       "        vertical-align: top;\n",
       "    }\n",
       "\n",
       "    .dataframe thead th {\n",
       "        text-align: right;\n",
       "    }\n",
       "</style>\n",
       "<table border=\"1\" class=\"dataframe\">\n",
       "  <thead>\n",
       "    <tr style=\"text-align: right;\">\n",
       "      <th></th>\n",
       "      <th>board</th>\n",
       "      <th>strategy</th>\n",
       "      <th>ev</th>\n",
       "      <th>exploitability</th>\n",
       "      <th>path</th>\n",
       "      <th>suitedness</th>\n",
       "      <th>rank</th>\n",
       "      <th>ev_upper</th>\n",
       "      <th>ev_diff</th>\n",
       "    </tr>\n",
       "  </thead>\n",
       "  <tbody>\n",
       "    <tr>\n",
       "      <th>1</th>\n",
       "      <td>QsTs2d</td>\n",
       "      <td>b20</td>\n",
       "      <td>128.432</td>\n",
       "      <td>0.731</td>\n",
       "      <td>C:/Users/christopher/Documents/autosim/out/3b_...</td>\n",
       "      <td>twotone</td>\n",
       "      <td>1794</td>\n",
       "      <td>128.594</td>\n",
       "      <td>-0.162</td>\n",
       "    </tr>\n",
       "    <tr>\n",
       "      <th>2</th>\n",
       "      <td>QsTs2d</td>\n",
       "      <td>b30</td>\n",
       "      <td>128.577</td>\n",
       "      <td>0.780</td>\n",
       "      <td>C:/Users/christopher/Documents/autosim/out/3b_...</td>\n",
       "      <td>twotone</td>\n",
       "      <td>1794</td>\n",
       "      <td>128.594</td>\n",
       "      <td>-0.017</td>\n",
       "    </tr>\n",
       "    <tr>\n",
       "      <th>3</th>\n",
       "      <td>QsTs2d</td>\n",
       "      <td>b49</td>\n",
       "      <td>127.895</td>\n",
       "      <td>0.798</td>\n",
       "      <td>C:/Users/christopher/Documents/autosim/out/3b_...</td>\n",
       "      <td>twotone</td>\n",
       "      <td>1794</td>\n",
       "      <td>128.594</td>\n",
       "      <td>-0.699</td>\n",
       "    </tr>\n",
       "    <tr>\n",
       "      <th>4</th>\n",
       "      <td>QsTs2d</td>\n",
       "      <td>b75</td>\n",
       "      <td>126.414</td>\n",
       "      <td>0.874</td>\n",
       "      <td>C:/Users/christopher/Documents/autosim/out/3b_...</td>\n",
       "      <td>twotone</td>\n",
       "      <td>1794</td>\n",
       "      <td>128.594</td>\n",
       "      <td>-2.180</td>\n",
       "    </tr>\n",
       "    <tr>\n",
       "      <th>6</th>\n",
       "      <td>9c4d2s</td>\n",
       "      <td>b20</td>\n",
       "      <td>104.590</td>\n",
       "      <td>0.839</td>\n",
       "      <td>C:/Users/christopher/Documents/autosim/out/3b_...</td>\n",
       "      <td>rainbow</td>\n",
       "      <td>1209</td>\n",
       "      <td>109.515</td>\n",
       "      <td>-4.925</td>\n",
       "    </tr>\n",
       "    <tr>\n",
       "      <th>...</th>\n",
       "      <td>...</td>\n",
       "      <td>...</td>\n",
       "      <td>...</td>\n",
       "      <td>...</td>\n",
       "      <td>...</td>\n",
       "      <td>...</td>\n",
       "      <td>...</td>\n",
       "      <td>...</td>\n",
       "      <td>...</td>\n",
       "    </tr>\n",
       "    <tr>\n",
       "      <th>114</th>\n",
       "      <td>JdTs7s</td>\n",
       "      <td>b75</td>\n",
       "      <td>110.940</td>\n",
       "      <td>0.660</td>\n",
       "      <td>C:/Users/christopher/Documents/autosim/out/3b_...</td>\n",
       "      <td>twotone</td>\n",
       "      <td>1630</td>\n",
       "      <td>112.358</td>\n",
       "      <td>-1.418</td>\n",
       "    </tr>\n",
       "    <tr>\n",
       "      <th>116</th>\n",
       "      <td>AdTs9s</td>\n",
       "      <td>b20</td>\n",
       "      <td>122.578</td>\n",
       "      <td>0.768</td>\n",
       "      <td>C:/Users/christopher/Documents/autosim/out/3b_...</td>\n",
       "      <td>twotone</td>\n",
       "      <td>2139</td>\n",
       "      <td>122.502</td>\n",
       "      <td>0.076</td>\n",
       "    </tr>\n",
       "    <tr>\n",
       "      <th>117</th>\n",
       "      <td>AdTs9s</td>\n",
       "      <td>b30</td>\n",
       "      <td>122.355</td>\n",
       "      <td>0.741</td>\n",
       "      <td>C:/Users/christopher/Documents/autosim/out/3b_...</td>\n",
       "      <td>twotone</td>\n",
       "      <td>2139</td>\n",
       "      <td>122.502</td>\n",
       "      <td>-0.147</td>\n",
       "    </tr>\n",
       "    <tr>\n",
       "      <th>118</th>\n",
       "      <td>AdTs9s</td>\n",
       "      <td>b49</td>\n",
       "      <td>121.635</td>\n",
       "      <td>0.866</td>\n",
       "      <td>C:/Users/christopher/Documents/autosim/out/3b_...</td>\n",
       "      <td>twotone</td>\n",
       "      <td>2139</td>\n",
       "      <td>122.502</td>\n",
       "      <td>-0.867</td>\n",
       "    </tr>\n",
       "    <tr>\n",
       "      <th>119</th>\n",
       "      <td>AdTs9s</td>\n",
       "      <td>b75</td>\n",
       "      <td>120.834</td>\n",
       "      <td>0.919</td>\n",
       "      <td>C:/Users/christopher/Documents/autosim/out/3b_...</td>\n",
       "      <td>twotone</td>\n",
       "      <td>2139</td>\n",
       "      <td>122.502</td>\n",
       "      <td>-1.668</td>\n",
       "    </tr>\n",
       "  </tbody>\n",
       "</table>\n",
       "<p>96 rows × 9 columns</p>\n",
       "</div>"
      ],
      "text/plain": [
       "      board strategy       ev  exploitability  \\\n",
       "1    QsTs2d      b20  128.432           0.731   \n",
       "2    QsTs2d      b30  128.577           0.780   \n",
       "3    QsTs2d      b49  127.895           0.798   \n",
       "4    QsTs2d      b75  126.414           0.874   \n",
       "6    9c4d2s      b20  104.590           0.839   \n",
       "..      ...      ...      ...             ...   \n",
       "114  JdTs7s      b75  110.940           0.660   \n",
       "116  AdTs9s      b20  122.578           0.768   \n",
       "117  AdTs9s      b30  122.355           0.741   \n",
       "118  AdTs9s      b49  121.635           0.866   \n",
       "119  AdTs9s      b75  120.834           0.919   \n",
       "\n",
       "                                                  path suitedness  rank  \\\n",
       "1    C:/Users/christopher/Documents/autosim/out/3b_...    twotone  1794   \n",
       "2    C:/Users/christopher/Documents/autosim/out/3b_...    twotone  1794   \n",
       "3    C:/Users/christopher/Documents/autosim/out/3b_...    twotone  1794   \n",
       "4    C:/Users/christopher/Documents/autosim/out/3b_...    twotone  1794   \n",
       "6    C:/Users/christopher/Documents/autosim/out/3b_...    rainbow  1209   \n",
       "..                                                 ...        ...   ...   \n",
       "114  C:/Users/christopher/Documents/autosim/out/3b_...    twotone  1630   \n",
       "116  C:/Users/christopher/Documents/autosim/out/3b_...    twotone  2139   \n",
       "117  C:/Users/christopher/Documents/autosim/out/3b_...    twotone  2139   \n",
       "118  C:/Users/christopher/Documents/autosim/out/3b_...    twotone  2139   \n",
       "119  C:/Users/christopher/Documents/autosim/out/3b_...    twotone  2139   \n",
       "\n",
       "     ev_upper  ev_diff  \n",
       "1     128.594   -0.162  \n",
       "2     128.594   -0.017  \n",
       "3     128.594   -0.699  \n",
       "4     128.594   -2.180  \n",
       "6     109.515   -4.925  \n",
       "..        ...      ...  \n",
       "114   112.358   -1.418  \n",
       "116   122.502    0.076  \n",
       "117   122.502   -0.147  \n",
       "118   122.502   -0.867  \n",
       "119   122.502   -1.668  \n",
       "\n",
       "[96 rows x 9 columns]"
      ]
     },
     "execution_count": 55,
     "metadata": {},
     "output_type": "execute_result"
    }
   ],
   "source": [
    "data"
   ]
  },
  {
   "cell_type": "code",
   "execution_count": 62,
   "metadata": {},
   "outputs": [
    {
     "data": {
      "text/plain": [
       "'C:/Users/christopher/Documents/autosim/out/3b_CO_BTN_mk2/2dTsQs/flop37.cfr'"
      ]
     },
     "execution_count": 62,
     "metadata": {},
     "output_type": "execute_result"
    }
   ],
   "source": [
    "list(data[\"path\"])[0]"
   ]
  },
  {
   "cell_type": "code",
   "execution_count": 56,
   "metadata": {},
   "outputs": [],
   "source": [
    "for path in list(data[\"path\"]):\n",
    "    assert os.path.isfile(path), f\"{path} is not a path.\""
   ]
  },
  {
   "cell_type": "markdown",
   "metadata": {},
   "source": [
    "## Sort best simplifications into separate folder"
   ]
  },
  {
   "cell_type": "code",
   "execution_count": 57,
   "metadata": {},
   "outputs": [],
   "source": [
    "SIMPL_DIR = f\"{ROOTDIR}/simplifications/{SPOT}\"\n",
    "os.makedirs(SIMPL_DIR, exist_ok=True)\n",
    "\n",
    "max_idxs = data.groupby(\"board\")[\"ev\"].transform(max) == data[\"ev\"]\n",
    "for _, row in data[max_idxs].iterrows():\n",
    "    newpath = f\"{SIMPL_DIR}/{row.board}_{row.strategy}.cfr\"\n",
    "    shutil.copyfile(src=row.path, dst=newpath)"
   ]
  },
  {
   "cell_type": "markdown",
   "metadata": {},
   "source": [
    "## EV visualizations"
   ]
  },
  {
   "cell_type": "code",
   "execution_count": 58,
   "metadata": {},
   "outputs": [
    {
     "name": "stdout",
     "output_type": "stream",
     "text": [
      "Number of boards: 24\n"
     ]
    }
   ],
   "source": [
    "boards = data[\"board\"].unique().tolist()\n",
    "print(f\"Number of boards: {len(boards)}\")"
   ]
  },
  {
   "cell_type": "code",
   "execution_count": 63,
   "metadata": {},
   "outputs": [
    {
     "data": {
      "image/png": "[encoded data removed]",
      "text/plain": [
       "<Figure size 720x720 with 24 Axes>"
      ]
     },
     "metadata": {
      "needs_background": "light"
     },
     "output_type": "display_data"
    }
   ],
   "source": [
    "sorted_boards = sorted(boards, key=rank, reverse=True)\n",
    "\n",
    "ncols = int(math.sqrt(len(boards)))\n",
    "nrows = math.ceil(len(boards) / ncols)\n",
    "\n",
    "plt.figure(figsize=(10, 10))\n",
    "for i, board in enumerate(sorted_boards):\n",
    "    plt.subplot(nrows, ncols, i + 1)\n",
    "    plot_strategies(data, board, SPOT)\n",
    "plt.tight_layout()\n",
    "plt.savefig(f\"../out/figures/{SPOT}\")\n",
    "plt.show()"
   ]
  },
  {
   "cell_type": "code",
   "execution_count": 64,
   "metadata": {},
   "outputs": [
    {
     "data": {
      "image/png": "[encoded data removed]",
      "text/plain": [
       "<Figure size 432x288 with 1 Axes>"
      ]
     },
     "metadata": {
      "needs_background": "light"
     },
     "output_type": "display_data"
    }
   ],
   "source": [
    "tmp = data\n",
    "tmp[\"rank_sum\"] = tmp[\"board\"].apply(partial(rank, method=\"sum\"))\n",
    "tmp = tmp[tmp[\"strategy\"] == \"b20\"]\n",
    "\n",
    "plt.figure()\n",
    "sns.scatterplot(x=\"rank_sum\", y=\"ev_upper\", data=tmp)\n",
    "plt.xlabel(\"Sum of card ranks\")\n",
    "plt.ylabel(\"EV of full strategy\")\n",
    "plt.show()"
   ]
  },
  {
   "cell_type": "code",
   "execution_count": null,
   "metadata": {},
   "outputs": [],
   "source": []
  },
  {
   "cell_type": "code",
   "execution_count": null,
   "metadata": {},
   "outputs": [],
   "source": []
  }
 ],
 "metadata": {
  "kernelspec": {
   "display_name": "Python 3",
   "language": "python",
   "name": "python3"
  },
  "language_info": {
   "codemirror_mode": {
    "name": "ipython",
    "version": 3
   },
   "file_extension": ".py",
   "mimetype": "text/x-python",
   "name": "python",
   "nbconvert_exporter": "python",
   "pygments_lexer": "ipython3",
   "version": "3.8.5"
  }
 },
 "nbformat": 4,
 "nbformat_minor": 4
}

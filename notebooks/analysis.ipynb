{
 "cells": [
  {
   "cell_type": "markdown",
   "metadata": {},
   "source": [
    "## Imports and constants"
   ]
  },
  {
   "cell_type": "code",
   "execution_count": 269,
   "metadata": {},
   "outputs": [],
   "source": [
    "import math\n",
    "import os\n",
    "from collections import Counter\n",
    "\n",
    "import numpy as np\n",
    "import pandas as pd\n",
    "import seaborn as sns\n",
    "from matplotlib import pyplot as plt\n",
    "\n",
    "from functools import partial, reduce"
   ]
  },
  {
   "cell_type": "code",
   "execution_count": 218,
   "metadata": {},
   "outputs": [],
   "source": [
    "ROOTDIR = \"C:/Users/christopher/Documents/autosim\"\n",
    "SPOT = \"3b_CO_BTN\"\n",
    "DATADIR = f\"{ROOTDIR}/out/{SPOT}\""
   ]
  },
  {
   "cell_type": "code",
   "execution_count": 259,
   "metadata": {},
   "outputs": [],
   "source": [
    "POTSIZE = 185\n",
    "\n",
    "ORDER = [\"2\", \"3\", \"4\", \"5\", \"6\", \"7\", \"8\", \"9\", \"T\", \"J\", \"Q\", \"K\", \"A\"]\n",
    "RANK = {card: i for i, card in enumerate(ORDER)}\n",
    "\n",
    "SUIT_ORDER = [\"d\", \"h\", \"s\", \"c\"]\n",
    "SUIT_RANK = {s: i for i, s in enumerate(SUIT_ORDER)}\n",
    "\n",
    "SUIT_SYMBOLS = {\n",
    "    \"d\": \"\\u2662\",\n",
    "    \"h\": \"\\u2661\",\n",
    "    \"s\": \"\\u2660\",\n",
    "    \"c\": \"\\u2663\",\n",
    "}"
   ]
  },
  {
   "cell_type": "markdown",
   "metadata": {},
   "source": [
    "## Helper methods"
   ]
  },
  {
   "cell_type": "code",
   "execution_count": 267,
   "metadata": {},
   "outputs": [],
   "source": [
    "def rank(board, method=\"sort\"):\n",
    "    \"\"\"\n",
    "    Assign a rank score for a board.\n",
    "    \n",
    "    If method == \"sort\", only the rank of the highest card\n",
    "    matters, unless its a tie, in which case the other cards are considered.\n",
    "\n",
    "    If method == \"sum\", return the sum of the ranks of the individual cards.\n",
    "\n",
    "    \"\"\"\n",
    "    assert method in [\"sort\", \"sum\"]\n",
    "    cards = board[0], board[2], board[4]\n",
    "    ranks = [RANK[card] for card in cards]\n",
    "    sorted_ranks = sorted(ranks)\n",
    "    if method == \"sum\":\n",
    "        return sum(sorted_ranks)\n",
    "    else:\n",
    "        return sum([13 ** i * r for i, r in enumerate(sorted_ranks)])"
   ]
  },
  {
   "cell_type": "code",
   "execution_count": null,
   "metadata": {},
   "outputs": [],
   "source": [
    "def strategy_as_perc(s):\n",
    "    if not s.isnumeric():\n",
    "        return s\n",
    "    perc = int((int(s) / POTSIZE) * 100)\n",
    "    return f\"b{perc}\""
   ]
  },
  {
   "cell_type": "code",
   "execution_count": null,
   "metadata": {},
   "outputs": [],
   "source": [
    "def reorder_board(b):\n",
    "    \"\"\"\n",
    "    Sort the cards for a board such that the highest rank cards come first, and\n",
    "    the suits are in the order (clubs, spades, hearts, diamonds).\n",
    "    \"\"\"\n",
    "    cards = [b[:2], b[2:4], b[4:6]]\n",
    "    sorted_cards = sorted(cards, key=lambda c: (RANK[c[0]], SUIT_RANK[c[1]]), reverse=True)\n",
    "    return \"\".join(sorted_cards)"
   ]
  },
  {
   "cell_type": "code",
   "execution_count": null,
   "metadata": {},
   "outputs": [],
   "source": [
    "def get_suitedness(board):\n",
    "    suits = [board[1], board[3], board[5]]\n",
    "    counts = list(Counter(suits).values())\n",
    "    if max(counts) == 1:\n",
    "        return \"rainbow\"\n",
    "    elif max(counts) == 2:\n",
    "        return \"twotone\"\n",
    "    elif max(counts) == 3:\n",
    "        return \"monotone\"\n",
    "    else:\n",
    "        raise ValueError(f\"Invalid board: {board}\")"
   ]
  },
  {
   "cell_type": "code",
   "execution_count": 263,
   "metadata": {},
   "outputs": [],
   "source": [
    "def pretty_board(board):\n",
    "    suits = [board[1], board[3], board[5]]\n",
    "    pretty_suits = [SUIT_SYMBOLS[s] for s in suits]\n",
    "    new_board = list(board)\n",
    "    new_board[1] = pretty_suits[0]\n",
    "    new_board[3] = pretty_suits[1]\n",
    "    new_board[5] = pretty_suits[2]\n",
    "    return \"\".join(new_board)"
   ]
  },
  {
   "cell_type": "markdown",
   "metadata": {},
   "source": [
    "## Data prep"
   ]
  },
  {
   "cell_type": "code",
   "execution_count": 247,
   "metadata": {},
   "outputs": [
    {
     "data": {
      "text/html": [
       "<div>\n",
       "<style scoped>\n",
       "    .dataframe tbody tr th:only-of-type {\n",
       "        vertical-align: middle;\n",
       "    }\n",
       "\n",
       "    .dataframe tbody tr th {\n",
       "        vertical-align: top;\n",
       "    }\n",
       "\n",
       "    .dataframe thead th {\n",
       "        text-align: right;\n",
       "    }\n",
       "</style>\n",
       "<table border=\"1\" class=\"dataframe\">\n",
       "  <thead>\n",
       "    <tr style=\"text-align: right;\">\n",
       "      <th></th>\n",
       "      <th>board</th>\n",
       "      <th>strategy</th>\n",
       "      <th>ev</th>\n",
       "    </tr>\n",
       "  </thead>\n",
       "  <tbody>\n",
       "    <tr>\n",
       "      <th>0</th>\n",
       "      <td>2d3sAs</td>\n",
       "      <td>full</td>\n",
       "      <td>109.504</td>\n",
       "    </tr>\n",
       "    <tr>\n",
       "      <th>1</th>\n",
       "      <td>2d3sAs</td>\n",
       "      <td>37</td>\n",
       "      <td>108.976</td>\n",
       "    </tr>\n",
       "    <tr>\n",
       "      <th>2</th>\n",
       "      <td>2d3sAs</td>\n",
       "      <td>61</td>\n",
       "      <td>109.416</td>\n",
       "    </tr>\n",
       "    <tr>\n",
       "      <th>3</th>\n",
       "      <td>2d3sAs</td>\n",
       "      <td>92</td>\n",
       "      <td>109.554</td>\n",
       "    </tr>\n",
       "    <tr>\n",
       "      <th>4</th>\n",
       "      <td>2d3sAs</td>\n",
       "      <td>139</td>\n",
       "      <td>109.453</td>\n",
       "    </tr>\n",
       "    <tr>\n",
       "      <th>...</th>\n",
       "      <td>...</td>\n",
       "      <td>...</td>\n",
       "      <td>...</td>\n",
       "    </tr>\n",
       "    <tr>\n",
       "      <th>75</th>\n",
       "      <td>QsQdTc</td>\n",
       "      <td>full</td>\n",
       "      <td>131.777</td>\n",
       "    </tr>\n",
       "    <tr>\n",
       "      <th>76</th>\n",
       "      <td>QsQdTc</td>\n",
       "      <td>37</td>\n",
       "      <td>131.463</td>\n",
       "    </tr>\n",
       "    <tr>\n",
       "      <th>77</th>\n",
       "      <td>QsQdTc</td>\n",
       "      <td>61</td>\n",
       "      <td>131.272</td>\n",
       "    </tr>\n",
       "    <tr>\n",
       "      <th>78</th>\n",
       "      <td>QsQdTc</td>\n",
       "      <td>92</td>\n",
       "      <td>129.575</td>\n",
       "    </tr>\n",
       "    <tr>\n",
       "      <th>79</th>\n",
       "      <td>QsQdTc</td>\n",
       "      <td>139</td>\n",
       "      <td>127.272</td>\n",
       "    </tr>\n",
       "  </tbody>\n",
       "</table>\n",
       "<p>80 rows × 3 columns</p>\n",
       "</div>"
      ],
      "text/plain": [
       "     board strategy       ev\n",
       "0   2d3sAs     full  109.504\n",
       "1   2d3sAs       37  108.976\n",
       "2   2d3sAs       61  109.416\n",
       "3   2d3sAs       92  109.554\n",
       "4   2d3sAs      139  109.453\n",
       "..     ...      ...      ...\n",
       "75  QsQdTc     full  131.777\n",
       "76  QsQdTc       37  131.463\n",
       "77  QsQdTc       61  131.272\n",
       "78  QsQdTc       92  129.575\n",
       "79  QsQdTc      139  127.272\n",
       "\n",
       "[80 rows x 3 columns]"
      ]
     },
     "execution_count": 247,
     "metadata": {},
     "output_type": "execute_result"
    }
   ],
   "source": [
    "dfs = []\n",
    "for board in os.listdir(DATADIR):\n",
    "    datapath = f\"{DATADIR}/{board}/data.csv\"\n",
    "    df = pd.read_csv(datapath)\n",
    "    df[\"board\"] = board\n",
    "    cols = df.columns.tolist()\n",
    "    newcols = cols[-1:] + cols[:-1]\n",
    "    df = df[newcols]\n",
    "    dfs.append(df)\n",
    "data = pd.concat(dfs)\n",
    "data = data.reset_index(drop=True)\n",
    "data.drop(\"exploitability\", axis=1)"
   ]
  },
  {
   "cell_type": "code",
   "execution_count": 251,
   "metadata": {},
   "outputs": [],
   "source": [
    "data[\"strategy\"] = data[\"strategy\"].apply(strategy_as_perc)\n",
    "\n",
    "data[\"board\"] = data[\"board\"].apply(reorder_board)\n",
    "\n",
    "data[\"suitedness\"] = data[\"board\"].apply(get_suitedness)\n",
    "\n",
    "data[\"rank\"] = data[\"board\"].apply(lambda b: rank(b))"
   ]
  },
  {
   "cell_type": "code",
   "execution_count": 252,
   "metadata": {},
   "outputs": [
    {
     "name": "stdout",
     "output_type": "stream",
     "text": [
      "As3s2d: 109.50\n",
      "6s5s2d: 92.62\n",
      "Js7s2d: 116.10\n",
      "Kc9d2s: 131.59\n",
      "Ts9s3d: 108.28\n",
      "Ks5d3s: 129.01\n",
      "8c6d3s: 98.61\n",
      "As8s4d: 114.68\n",
      "Qs6d4s: 111.59\n",
      "9d7s4s: 93.61\n",
      "Tc8d5s: 110.45\n",
      "Jd9s6s: 109.92\n",
      "AsQs7d: 129.14\n",
      "KcJd7s: 139.36\n",
      "AsAdTs: 142.86\n",
      "QsQdTc: 131.78\n"
     ]
    }
   ],
   "source": [
    "full_strat_data = data[data[\"strategy\"] == \"full\"][[\"board\", \"ev\"]]\n",
    "full_strat_evs = {board: ev for board, ev in full_strat_data.values.tolist()}\n",
    "for board, ev in full_strat_evs.items():\n",
    "    print(f\"{board}: {ev:.2f}\")"
   ]
  },
  {
   "cell_type": "code",
   "execution_count": 253,
   "metadata": {},
   "outputs": [],
   "source": [
    "data = data[data[\"strategy\"] != \"full\"]\n",
    "data[\"ev_upper\"] = data.apply(lambda row: full_strat_evs[row.board], axis=1)\n",
    "\n",
    "data[\"ev_diff\"] = data[\"ev\"] - data[\"ev_upper\"]"
   ]
  },
  {
   "cell_type": "code",
   "execution_count": 254,
   "metadata": {},
   "outputs": [
    {
     "data": {
      "text/html": [
       "<div>\n",
       "<style scoped>\n",
       "    .dataframe tbody tr th:only-of-type {\n",
       "        vertical-align: middle;\n",
       "    }\n",
       "\n",
       "    .dataframe tbody tr th {\n",
       "        vertical-align: top;\n",
       "    }\n",
       "\n",
       "    .dataframe thead th {\n",
       "        text-align: right;\n",
       "    }\n",
       "</style>\n",
       "<table border=\"1\" class=\"dataframe\">\n",
       "  <thead>\n",
       "    <tr style=\"text-align: right;\">\n",
       "      <th></th>\n",
       "      <th>board</th>\n",
       "      <th>strategy</th>\n",
       "      <th>ev</th>\n",
       "      <th>exploitability</th>\n",
       "      <th>suitedness</th>\n",
       "      <th>rank</th>\n",
       "      <th>ev_upper</th>\n",
       "      <th>ev_diff</th>\n",
       "    </tr>\n",
       "  </thead>\n",
       "  <tbody>\n",
       "    <tr>\n",
       "      <th>1</th>\n",
       "      <td>As3s2d</td>\n",
       "      <td>b20</td>\n",
       "      <td>108.976</td>\n",
       "      <td>0.853</td>\n",
       "      <td>twotone</td>\n",
       "      <td>2041</td>\n",
       "      <td>109.504</td>\n",
       "      <td>-0.528</td>\n",
       "    </tr>\n",
       "    <tr>\n",
       "      <th>2</th>\n",
       "      <td>As3s2d</td>\n",
       "      <td>b32</td>\n",
       "      <td>109.416</td>\n",
       "      <td>0.870</td>\n",
       "      <td>twotone</td>\n",
       "      <td>2041</td>\n",
       "      <td>109.504</td>\n",
       "      <td>-0.088</td>\n",
       "    </tr>\n",
       "    <tr>\n",
       "      <th>3</th>\n",
       "      <td>As3s2d</td>\n",
       "      <td>b49</td>\n",
       "      <td>109.554</td>\n",
       "      <td>0.780</td>\n",
       "      <td>twotone</td>\n",
       "      <td>2041</td>\n",
       "      <td>109.504</td>\n",
       "      <td>0.050</td>\n",
       "    </tr>\n",
       "    <tr>\n",
       "      <th>4</th>\n",
       "      <td>As3s2d</td>\n",
       "      <td>b75</td>\n",
       "      <td>109.453</td>\n",
       "      <td>0.552</td>\n",
       "      <td>twotone</td>\n",
       "      <td>2041</td>\n",
       "      <td>109.504</td>\n",
       "      <td>-0.051</td>\n",
       "    </tr>\n",
       "    <tr>\n",
       "      <th>6</th>\n",
       "      <td>6s5s2d</td>\n",
       "      <td>b20</td>\n",
       "      <td>90.790</td>\n",
       "      <td>0.769</td>\n",
       "      <td>twotone</td>\n",
       "      <td>715</td>\n",
       "      <td>92.620</td>\n",
       "      <td>-1.830</td>\n",
       "    </tr>\n",
       "    <tr>\n",
       "      <th>...</th>\n",
       "      <td>...</td>\n",
       "      <td>...</td>\n",
       "      <td>...</td>\n",
       "      <td>...</td>\n",
       "      <td>...</td>\n",
       "      <td>...</td>\n",
       "      <td>...</td>\n",
       "      <td>...</td>\n",
       "    </tr>\n",
       "    <tr>\n",
       "      <th>74</th>\n",
       "      <td>AsAdTs</td>\n",
       "      <td>b75</td>\n",
       "      <td>138.212</td>\n",
       "      <td>0.751</td>\n",
       "      <td>twotone</td>\n",
       "      <td>2192</td>\n",
       "      <td>142.856</td>\n",
       "      <td>-4.644</td>\n",
       "    </tr>\n",
       "    <tr>\n",
       "      <th>76</th>\n",
       "      <td>QsQdTc</td>\n",
       "      <td>b20</td>\n",
       "      <td>131.463</td>\n",
       "      <td>0.897</td>\n",
       "      <td>rainbow</td>\n",
       "      <td>1828</td>\n",
       "      <td>131.777</td>\n",
       "      <td>-0.314</td>\n",
       "    </tr>\n",
       "    <tr>\n",
       "      <th>77</th>\n",
       "      <td>QsQdTc</td>\n",
       "      <td>b32</td>\n",
       "      <td>131.272</td>\n",
       "      <td>0.736</td>\n",
       "      <td>rainbow</td>\n",
       "      <td>1828</td>\n",
       "      <td>131.777</td>\n",
       "      <td>-0.505</td>\n",
       "    </tr>\n",
       "    <tr>\n",
       "      <th>78</th>\n",
       "      <td>QsQdTc</td>\n",
       "      <td>b49</td>\n",
       "      <td>129.575</td>\n",
       "      <td>0.551</td>\n",
       "      <td>rainbow</td>\n",
       "      <td>1828</td>\n",
       "      <td>131.777</td>\n",
       "      <td>-2.202</td>\n",
       "    </tr>\n",
       "    <tr>\n",
       "      <th>79</th>\n",
       "      <td>QsQdTc</td>\n",
       "      <td>b75</td>\n",
       "      <td>127.272</td>\n",
       "      <td>0.831</td>\n",
       "      <td>rainbow</td>\n",
       "      <td>1828</td>\n",
       "      <td>131.777</td>\n",
       "      <td>-4.505</td>\n",
       "    </tr>\n",
       "  </tbody>\n",
       "</table>\n",
       "<p>64 rows × 8 columns</p>\n",
       "</div>"
      ],
      "text/plain": [
       "     board strategy       ev  exploitability suitedness  rank  ev_upper  \\\n",
       "1   As3s2d      b20  108.976           0.853    twotone  2041   109.504   \n",
       "2   As3s2d      b32  109.416           0.870    twotone  2041   109.504   \n",
       "3   As3s2d      b49  109.554           0.780    twotone  2041   109.504   \n",
       "4   As3s2d      b75  109.453           0.552    twotone  2041   109.504   \n",
       "6   6s5s2d      b20   90.790           0.769    twotone   715    92.620   \n",
       "..     ...      ...      ...             ...        ...   ...       ...   \n",
       "74  AsAdTs      b75  138.212           0.751    twotone  2192   142.856   \n",
       "76  QsQdTc      b20  131.463           0.897    rainbow  1828   131.777   \n",
       "77  QsQdTc      b32  131.272           0.736    rainbow  1828   131.777   \n",
       "78  QsQdTc      b49  129.575           0.551    rainbow  1828   131.777   \n",
       "79  QsQdTc      b75  127.272           0.831    rainbow  1828   131.777   \n",
       "\n",
       "    ev_diff  \n",
       "1    -0.528  \n",
       "2    -0.088  \n",
       "3     0.050  \n",
       "4    -0.051  \n",
       "6    -1.830  \n",
       "..      ...  \n",
       "74   -4.644  \n",
       "76   -0.314  \n",
       "77   -0.505  \n",
       "78   -2.202  \n",
       "79   -4.505  \n",
       "\n",
       "[64 rows x 8 columns]"
      ]
     },
     "execution_count": 254,
     "metadata": {},
     "output_type": "execute_result"
    }
   ],
   "source": [
    "data"
   ]
  },
  {
   "cell_type": "code",
   "execution_count": 255,
   "metadata": {},
   "outputs": [
    {
     "name": "stdout",
     "output_type": "stream",
     "text": [
      "Number of boards: 16\n"
     ]
    }
   ],
   "source": [
    "boards = data[\"board\"].unique().tolist()\n",
    "print(f\"Number of boards: {len(boards)}\")"
   ]
  },
  {
   "cell_type": "code",
   "execution_count": 265,
   "metadata": {},
   "outputs": [],
   "source": [
    "def get_ybounds(evs, full_ev, alpha=0.2):\n",
    "    min_ev = min(evs)\n",
    "    max_ev = max(max(evs), full_ev)\n",
    "    gap = max_ev - min_ev\n",
    "    ylow = min_ev - alpha * gap\n",
    "    yhigh = max_ev + alpha * gap / 2\n",
    "    return ylow, yhigh\n",
    "\n",
    "\n",
    "def plot_strategies(data, board, spot):\n",
    "    full_ev = full_strat_evs[board]\n",
    "    board_data = data[data[\"board\"] == board]\n",
    "    ylow, yhigh = get_ybounds(board_data[\"ev\"], full_ev)\n",
    "    sns.barplot(x=\"strategy\", y=\"ev\", data=board_data)\n",
    "    plt.axhline(y=full_ev, linestyle=\"--\")\n",
    "    plt.title(pretty_board(board))\n",
    "    plt.xlabel(\"\")\n",
    "    plt.ylim([ylow, yhigh])"
   ]
  },
  {
   "cell_type": "code",
   "execution_count": 266,
   "metadata": {},
   "outputs": [
    {
     "data": {
      "image/png": "[encoded data removed]",
      "text/plain": [
       "<Figure size 720x720 with 16 Axes>"
      ]
     },
     "metadata": {
      "needs_background": "light"
     },
     "output_type": "display_data"
    }
   ],
   "source": [
    "sorted_boards = sorted(boards, key=rank, reverse=True)\n",
    "\n",
    "ncols = int(math.sqrt(len(boards)))\n",
    "nrows = math.ceil(len(boards) / ncols)\n",
    "\n",
    "plt.figure(figsize=(10, 10))\n",
    "for i, board in enumerate(sorted_boards):\n",
    "    plt.subplot(nrows, ncols, i + 1)\n",
    "    plot_strategies(data, board, SPOT)\n",
    "plt.tight_layout()\n",
    "plt.show()"
   ]
  },
  {
   "cell_type": "code",
   "execution_count": 277,
   "metadata": {},
   "outputs": [
    {
     "data": {
      "image/png": "[encoded data removed]",
      "text/plain": [
       "<Figure size 432x288 with 1 Axes>"
      ]
     },
     "metadata": {
      "needs_background": "light"
     },
     "output_type": "display_data"
    }
   ],
   "source": [
    "tmp = data\n",
    "tmp[\"rank_sum\"] = tmp[\"board\"].apply(partial(rank, method=\"sum\"))\n",
    "tmp = tmp[tmp[\"strategy\"] == \"b20\"]\n",
    "\n",
    "plt.figure()\n",
    "sns.scatterplot(x=\"rank_sum\", y=\"ev_upper\", data=tmp)\n",
    "plt.show()"
   ]
  },
  {
   "cell_type": "code",
   "execution_count": null,
   "metadata": {},
   "outputs": [],
   "source": []
  },
  {
   "cell_type": "code",
   "execution_count": null,
   "metadata": {},
   "outputs": [],
   "source": []
  }
 ],
 "metadata": {
  "kernelspec": {
   "display_name": "Python 3",
   "language": "python",
   "name": "python3"
  },
  "language_info": {
   "codemirror_mode": {
    "name": "ipython",
    "version": 3
   },
   "file_extension": ".py",
   "mimetype": "text/x-python",
   "name": "python",
   "nbconvert_exporter": "python",
   "pygments_lexer": "ipython3",
   "version": "3.8.5"
  }
 },
 "nbformat": 4,
 "nbformat_minor": 4
}
